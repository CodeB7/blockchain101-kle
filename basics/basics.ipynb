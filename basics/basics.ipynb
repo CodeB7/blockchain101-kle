{
 "cells": [
  {
   "cell_type": "markdown",
   "metadata": {},
   "source": [
    "## Blockchain functionality \n",
    "Block linking process will have few tasks such as clubbing all the information to create a structure, calculating the hash of the block and appending it to the blockchain. Let's break down each of these functionalities into blockchain methods. "
   ]
  },
  {
   "cell_type": "code",
   "execution_count": 1,
   "metadata": {
    "scrolled": true
   },
   "outputs": [],
   "source": [
    "# -*- coding: utf-8 -*-\n",
    "import json\n",
    "\n",
    "from Crypto.Hash import SHA256\n",
    "from datetime import datetime\n",
    "\n",
    "\n",
    "class Block(object):\n",
    "    \"\"\"A class representing the block for the blockchain\"\"\"\n",
    "\n",
    "    def __init__(self, index, previous_hash, timestamp, data, hash):\n",
    "        self.index = index\n",
    "        self.previous_hash = previous_hash\n",
    "        self.timestamp = timestamp\n",
    "        self.data = data\n",
    "        self.hash = hash\n",
    "\n",
    "\n",
    "\n",
    "\n"
   ]
  },
  {
   "cell_type": "markdown",
   "metadata": {},
   "source": [
    "Above code snippet has python class called Block which has all the basic attributes to represent a block. Usually a block will contain both header and a body where header part will have metadata about the block. But, above example doesn’t distinguish between the header and body. A typical blockchain application such as bitcoin will have a huge set of data such as transactions, but we will consider data as just string type. "
   ]
  },
  {
   "cell_type": "code",
   "execution_count": 2,
   "metadata": {},
   "outputs": [],
   "source": [
    "class Blockchain(object):\n",
    "    \"\"\"A class representing list of blocks\"\"\"\n",
    "\n",
    "    def __init__(self):\n",
    "\n",
    "        self._chain = [self.get_genesis_block()]\n",
    "        self.timestamp = datetime.now().strftime(\"%s\")\n",
    "        \n",
    "    def get_genesis_block(self):\n",
    "        \"\"\"creates first block of the chain\"\"\"\n",
    "\n",
    "        return Block(0, \"0\", 1465154705, \"my genesis block!!\",\n",
    "                     \"816534932c2b7154836da6afc367695e6337db8a921823784c14378abed4f7d7\")\n",
    "\n",
    "    def calculate_hash(self, index, previous_hash, timestamp, data):\n",
    "        \"\"\"calculates SHA256 hash value\"\"\"\n",
    "\n",
    "        hash_object = SHA256.new(data=(str(index) + previous_hash + str(timestamp) + data).encode())\n",
    "        return hash_object.hexdigest()\n",
    "\n",
    "    def get_latest_block(self):\n",
    "        \"\"\"gets the last block from the blockchain\"\"\"\n",
    "\n",
    "        try:\n",
    "            return self._chain[-1]\n",
    "        except IndexError as e:\n",
    "            return None\n",
    "    \n",
    "    def create_block(self, block_data):\n",
    "        \"\"\"creates a new block with the given block data\"\"\"\n",
    "\n",
    "        previous_block = self.get_latest_block()\n",
    "        next_index = previous_block.index + 1\n",
    "        next_timestamp = self.timestamp\n",
    "        next_hash = self.calculate_hash(next_index, previous_block.hash, next_timestamp, block_data)\n",
    "        return Block(next_index, previous_block.hash, next_timestamp, block_data, next_hash)\n",
    "\n",
    "    @property\n",
    "    def chain(self):\n",
    "        \"\"\"created a dict containing list of block objects to view\"\"\"\n",
    "\n",
    "        return self.dict(self._chain)\n",
    "\n",
    "    def dict(self, chain):\n",
    "        \"\"\"converts list of block objects to dictionary\"\"\"\n",
    "\n",
    "        return json.loads(json.dumps(chain, default=lambda o: o.__dict__))\n",
    "\n",
    "    def reset(self):\n",
    "        \"\"\"resets the blockchain blocks except genesis block\"\"\"\n",
    "\n",
    "        self._chain = [self._chain[0]]\n",
    "\n",
    "    def add_block(self, data):\n",
    "        \"\"\"appends a new block to the blockchain\"\"\"\n",
    "\n",
    "        self._chain.append(self.create_block(data))"
   ]
  },
  {
   "cell_type": "markdown",
   "metadata": {},
   "source": [
    "Above class is a collection of class methods to create a valid blockchain by using hash function. Constructor of the Blockchain will initialize a chain by appending genesis block, which is the first block of the blockchain which doesn't have any reference to previous block. "
   ]
  },
  {
   "cell_type": "markdown",
   "metadata": {},
   "source": [
    "### get_genesis_block(self)\n",
    "\n",
    "A genesis block is hardcoded block which will be appended to the beginning of the blockchain. It is created with all static contents. Above genesis block has a hardcoded hash value which is created using SHA256 as follows.\n",
    "\n",
    "SHA256.new(data=(str(0) + \"0\"+ str(1465154705) +\"my genesis block!!\").encode()).hexdigest() "
   ]
  },
  {
   "cell_type": "markdown",
   "metadata": {},
   "source": [
    "### calculate_hash(self, index, previous_hash, timestamp, data):\n",
    "\n",
    "calculate_hash is a crucial method of the blockchain as this method creates a hash value which will bind all the blocks together. SHA256 hash value is created by using PyCryptodome package as shown in the chapter 2. This method will concatenate block index, hash value of previous block, timestamp and data to create a string to be hashed. SHA256 hash function will generate a digest which will be the hash value of that block. "
   ]
  },
  {
   "cell_type": "markdown",
   "metadata": {},
   "source": [
    "### get_latest_block(self)\n",
    "\n",
    "This function identifies the last block which is appended to the chain which is required while creating each block to find the hash value of previous block. "
   ]
  },
  {
   "cell_type": "markdown",
   "metadata": {},
   "source": [
    "### create_block(self, block_data):\n",
    "\n",
    "This function will build a block by constructing all the required attributes to create a Block object. It will also calculate the hash value for the current block. A new Block object consisting of the block structure will be finally created. "
   ]
  },
  {
   "cell_type": "markdown",
   "metadata": {},
   "source": [
    "### chain(self), dict(self, chain), reset(self), add_block(self, data)"
   ]
  },
  {
   "cell_type": "markdown",
   "metadata": {},
   "source": [
    "All the above functions are used to add blocks, reset and read the blocks of the blockchain. Method add_block and the attribute chain are the only required class members that needs to be exposed to the user. "
   ]
  },
  {
   "cell_type": "markdown",
   "metadata": {},
   "source": [
    "## Creating a blockchain "
   ]
  },
  {
   "cell_type": "markdown",
   "metadata": {},
   "source": [
    "Now that we have defined all the required functionalities of a simple blockchain linker, let's emulate a blockchain linker by creating few blocks and adding them to the blockchain. \n",
    "\n",
    "The below code snippet creates a Blockchain object and adds three blocks to the blockchain along with an existing genesis block. This operation is performed again after resetting the blockchain. The important observation here is that both the output of new_chain.chain would produce same list of blocks containing same block hashes as below. This is due to the fact that all the attributes contributing to the hash value creation are same during both the execution, and hash function always produces the same hash value if the fed input is the same. The time stamp is intentionally kept constant for all the blocks to showcase the feature of the hash function. "
   ]
  },
  {
   "cell_type": "code",
   "execution_count": 3,
   "metadata": {},
   "outputs": [
    {
     "name": "stdout",
     "output_type": "stream",
     "text": [
      "[{\"index\": 0, \"previous_hash\": \"0\", \"data\": \"my genesis block!!\", \"hash\": \"816534932c2b7154836da6afc367695e6337db8a921823784c14378abed4f7d7\", \"timestamp\": 1465154705}, {\"index\": 1, \"previous_hash\": \"816534932c2b7154836da6afc367695e6337db8a921823784c14378abed4f7d7\", \"data\": \"modified first block data\", \"hash\": \"bea5a2019090b3c98fc3ea06b61b38b0036c5116bf99b42d6af640757b5d99a9\", \"timestamp\": \"1542437590\"}, {\"index\": 2, \"previous_hash\": \"bea5a2019090b3c98fc3ea06b61b38b0036c5116bf99b42d6af640757b5d99a9\", \"data\": \"second block data\", \"hash\": \"76443e287a69ec3c46c0c8aba859dacb8d425144e97b0352a51da6061dd9350f\", \"timestamp\": \"1542437590\"}, {\"index\": 3, \"previous_hash\": \"76443e287a69ec3c46c0c8aba859dacb8d425144e97b0352a51da6061dd9350f\", \"data\": \"third block data\", \"hash\": \"3cc22d7ac38e6e91d2ba6429d45326407e8a698fcc1bb09e992b9dc936596eb6\", \"timestamp\": \"1542437590\"}]\n"
     ]
    }
   ],
   "source": [
    "new_chain = Blockchain()\n",
    "new_chain.add_block(data=\"modified first block data\")\n",
    "new_chain.add_block(data=\"second block data\")\n",
    "new_chain.add_block(data=\"third block data\")\n",
    "\n",
    "print(json.dumps(new_chain.chain))"
   ]
  },
  {
   "cell_type": "markdown",
   "metadata": {},
   "source": [
    "## An example implementation of proof-of-work. \n",
    "\n",
    "### Example for brute forcing with nonce \n",
    "\n",
    "Below code snippet is a simple example for generating hashes to solve the proof-of-work puzzle. The nonce is created in an incremental fashion and appended to the input data. Hash value is computed using SHA256 algorithm and this is repeated for all the nonce values. \n",
    "\n",
    "The program will generate below hashes for each of the nonce appended data. "
   ]
  },
  {
   "cell_type": "code",
   "execution_count": 4,
   "metadata": {},
   "outputs": [
    {
     "name": "stdout",
     "output_type": "stream",
     "text": [
      "I am Satoshi Nakamoto0=>a80a81401765c8eddee25df36728d732acb6d135...\n",
      "I am Satoshi Nakamoto1=>f7bc9a6304a4647bb41241a677b5345fe3cd30db...\n",
      "I am Satoshi Nakamoto2=>ea758a8134b115298a1583ffb80ae62939a2d086...\n",
      "I am Satoshi Nakamoto3=>bfa9779618ff072c903d773de30c99bd6e2fd70b...\n",
      "I am Satoshi Nakamoto4=>bce8564de9a83c18c31944a66bde992ff1a77513...\n",
      "I am Satoshi Nakamoto5=>eb362c3cf3479be0a97a20163589038e4dbead49...\n",
      "I am Satoshi Nakamoto6=>4a2fd48e3be420d0d28e202360cfbaba410bedde...\n",
      "I am Satoshi Nakamoto7=>790b5a1349a5f2b909bf74d0d166b17a333c7fd8...\n",
      "I am Satoshi Nakamoto8=>702c45e5b15aa54b625d68dd947f1597b1fa571d...\n",
      "I am Satoshi Nakamoto9=>7007cf7dd40f5e933cd89fff5b791ff0614d9c60...\n",
      "I am Satoshi Nakamoto10=>c2f38c81992f4614206a21537bd634af7178964...\n",
      "I am Satoshi Nakamoto11=>7045da6ed8a914690f087690e1e8d662cf9e56f...\n",
      "I am Satoshi Nakamoto12=>60f01db30c1a0d4cbce2b4b22e88b9b93f58f10...\n",
      "I am Satoshi Nakamoto13=>0ebc56d59a34f5082aaef3d66b37a661696c2b6...\n",
      "I am Satoshi Nakamoto14=>27ead1ca85da66981fd9da01a8c6816f54cfa0d...\n",
      "I am Satoshi Nakamoto15=>394809fb809c5f83ce97ab554a2812cd901d3b1...\n",
      "I am Satoshi Nakamoto16=>8fa4992219df33f50834465d30474298a7d5ec7...\n",
      "I am Satoshi Nakamoto17=>dca9b8b4f8d8e1521fa4eaa46f4f0cdf9ae0e69...\n",
      "I am Satoshi Nakamoto18=>9989a401b2a3a318b01e9ca9a22b0f39d82e48b...\n",
      "I am Satoshi Nakamoto19=>cda56022ecb5b67b2bc93a2d764e75fc6ec6e6e...\n"
     ]
    }
   ],
   "source": [
    "\n",
    "from __future__ import print_function\n",
    "from Crypto.Hash import SHA256\n",
    "\n",
    "text = \"I am Satoshi Nakamoto\"\n",
    "\n",
    "# iterate nonce from 0 to 19\n",
    "for nonce in range(20):\n",
    "\n",
    "    # add the nonce to the end of the text\n",
    "    input_data = text + str(nonce)\n",
    "\n",
    "    # calculate the SHA-256 hash of the input (text+nonce)\n",
    "    hash_data = SHA256.new(input_data.encode()).hexdigest()\n",
    "\n",
    "    # show the input and hash result\n",
    "    print((input_data + '=>' + hash_data)[:64] + \"...\")\n"
   ]
  },
  {
   "cell_type": "markdown",
   "metadata": {},
   "source": [
    "## Example for finding a nonce to solve proof-of-work \n",
    "\n",
    "This example will illustrate on finding a nonce by brute forcing with the help of SHA256 to find a hash value that will satisfy the target hash. Target hash value is determined by setting the difficulty bits in the proof-of-work algorithm. We will use the same blockchain linker created in the earlier section and will modify that example to include proof-of-work algorithm while creating new block. Let’s modify few functions of the blockchain example to include the consensus algorithm. "
   ]
  },
  {
   "cell_type": "code",
   "execution_count": 5,
   "metadata": {},
   "outputs": [],
   "source": [
    "import json\n",
    "\n",
    "from Crypto.Hash import SHA256\n",
    "from datetime import datetime\n",
    "\n",
    "max_nonce = 2 ** 32  # 4 billion\n",
    "\n",
    "\n",
    "class Block(object):\n",
    "    \"\"\"A class representing the block for the blockchain\"\"\"\n",
    "\n",
    "    def __init__(self, index, previous_hash, timestamp, data,\n",
    "                 difficulty_bits, nonce, hash):\n",
    "        self.index = index\n",
    "        self.previous_hash = previous_hash\n",
    "        self.timestamp = timestamp\n",
    "        self.data = data\n",
    "        self.difficulty_bits = difficulty_bits\n",
    "        self.nonce = nonce\n",
    "        self.hash = hash\n",
    "\n",
    "\n",
    "class Blockchain(object):\n",
    "    \"\"\"A class representing list of blocks\"\"\"\n",
    "\n",
    "    def __init__(self):\n",
    "\n",
    "        self._chain = [self.get_genesis_block()]\n",
    "        self.timestamp = datetime.now().strftime(\"%s\")\n",
    "        self.difficulty_bits = 0\n",
    "\n",
    "    @property\n",
    "    def chain(self):\n",
    "        \"\"\"created a dict containing list of block objects to view\"\"\"\n",
    "\n",
    "        return self.dict(self._chain)\n",
    "\n",
    "    def dict(self, chain):\n",
    "        \"\"\"converts list of block objects to dictionary\"\"\"\n",
    "\n",
    "        return json.loads(json.dumps(chain, default=lambda o: o.__dict__))\n",
    "\n",
    "    def reset(self):\n",
    "        \"\"\"resets the blockchain blocks except genesis block\"\"\"\n",
    "\n",
    "        self._chain = [self._chain[0]]\n",
    "\n",
    "    def get_genesis_block(self):\n",
    "        \"\"\"creates first block of the chain\"\"\"\n",
    "\n",
    "        # SHA256.new(data=(str(0) + \"0\"+ str(1465154705) +\"my genesis block!!\"+\"0\").encode()).hexdigest()\n",
    "        return Block(0, \"0\", 1465154705, \"my genesis block!!\", 0, 0,\n",
    "                     \"f6b3fd6d417048423692c275deeaa010d4174bd680635d3e3cb0050aa46401cb\")\n",
    "\n",
    "    def add_block(self, data):\n",
    "        \"\"\"appends a new block to the blockchain\"\"\"\n",
    "\n",
    "        self._chain.append(self.create_block(data))\n",
    "\n",
    "    def create_block(self, block_data):\n",
    "        \"\"\"creates a new block with the given block data\"\"\"\n",
    "\n",
    "        previous_block = self.get_latest_block()\n",
    "        next_index = previous_block.index + 1\n",
    "        next_timestamp = self.timestamp\n",
    "        next_hash, next_nonce = self.calculate_hash(next_index, previous_block.hash, next_timestamp, block_data)\n",
    "        return Block(next_index, previous_block.hash, next_timestamp, block_data, self.difficulty_bits, next_nonce, next_hash)\n",
    "\n",
    "    def get_latest_block(self):\n",
    "        \"\"\"gets the last block from the blockchain\"\"\"\n",
    "\n",
    "        try:\n",
    "            return self._chain[-1]\n",
    "        except IndexError as e:\n",
    "            return None\n",
    "\n",
    "    def calculate_hash(self, index, previous_hash, timestamp, data):\n",
    "        \"\"\"calculates SHA256 hash value by solving hash puzzle\"\"\"\n",
    "\n",
    "        header = str(index) + previous_hash + str(timestamp) + data + str(self.difficulty_bits)\n",
    "\n",
    "        hash_value, nonce = self.proof_of_work(header)\n",
    "        return hash_value, nonce\n",
    "\n",
    "    def proof_of_work(self, header):\n",
    "\n",
    "        target = 2 ** (256 - difficulty_bits)\n",
    "\n",
    "        for nonce in xrange(max_nonce):\n",
    "            hash_result = SHA256.new(data=(str(header) + str(nonce)).encode()).hexdigest()\n",
    "\n",
    "            if int(hash_result, 16) < target:\n",
    "                print(\"Success with nonce %d\" % nonce)\n",
    "                print(\"Hash is %s\" % hash_result)\n",
    "                return (hash_result, nonce)\n",
    "\n",
    "        print(\"Failed after %d (max_nonce) tries\" % nonce)\n",
    "        return nonce"
   ]
  },
  {
   "cell_type": "code",
   "execution_count": null,
   "metadata": {},
   "outputs": [
    {
     "name": "stdout",
     "output_type": "stream",
     "text": [
      "Difficulty: 1 (0 bits)\n",
      "Starting search...\n",
      "Success with nonce 0\n",
      "Hash is d5a17fc5c25bd24f5ac9d023a667fcc3f7460e38060707d4c015c8bccc483f55\n",
      "Elapsed Time: 0.0008 seconds\n",
      "Hashing Power: 0 hashes per second\n",
      "Difficulty: 2 (1 bits)\n",
      "Starting search...\n",
      "Success with nonce 2\n",
      "Hash is 76b18b8e1b2fd63211ba45b2f00012aa1e3e95d8e0bff7a5c704b2ae1f621e7e\n",
      "Elapsed Time: 0.0013 seconds\n",
      "Hashing Power: 1502 hashes per second\n",
      "Difficulty: 4 (2 bits)\n",
      "Starting search...\n",
      "Success with nonce 2\n",
      "Hash is 10665e7604c4370e11597b3ffde55d3256297f2cf4cdddc3d591aa9ed98968fe\n",
      "Elapsed Time: 0.0027 seconds\n",
      "Hashing Power: 728 hashes per second\n",
      "Difficulty: 8 (3 bits)\n",
      "Starting search...\n",
      "Success with nonce 16\n",
      "Hash is 0ef6ae98fc2f80044d25f2a6ec2538ef88b463780481fc0e7742aa53072a4855\n",
      "Elapsed Time: 0.0031 seconds\n",
      "Hashing Power: 5143 hashes per second\n",
      "Difficulty: 16 (4 bits)\n",
      "Starting search...\n",
      "Success with nonce 27\n",
      "Hash is 076d59bc4c553a735f93d3ea0104b2d80c0447712e606338002ae39dc5fd41f8\n",
      "Elapsed Time: 0.0041 seconds\n",
      "Hashing Power: 6645 hashes per second\n",
      "Difficulty: 32 (5 bits)\n",
      "Starting search...\n",
      "Success with nonce 46\n",
      "Hash is 00f29be1690dd76e320576d990749a49ba92bb5d3cff01e862e2522fb013c6ef\n",
      "Elapsed Time: 0.0038 seconds\n",
      "Hashing Power: 12089 hashes per second\n",
      "Difficulty: 64 (6 bits)\n",
      "Starting search...\n",
      "Success with nonce 70\n",
      "Hash is 0381d61ebdba7b7df04d4f3f6582e9bd49d8ce0218f79d8fe76cf7e6574a0f40\n",
      "Elapsed Time: 0.0051 seconds\n",
      "Hashing Power: 13613 hashes per second\n",
      "Difficulty: 128 (7 bits)\n",
      "Starting search...\n",
      "Success with nonce 340\n",
      "Hash is 0032a9dc072fe41b087c76f3e8d746b1485f9856f7eb5f871fd7193777a2ce69\n",
      "Elapsed Time: 0.0157 seconds\n",
      "Hashing Power: 21678 hashes per second\n",
      "Difficulty: 256 (8 bits)\n",
      "Starting search...\n",
      "Success with nonce 66\n",
      "Hash is 00e578d447fa83352817bce274475875411f80bf38ca76b38873525b710e3107\n",
      "Elapsed Time: 0.0037 seconds\n",
      "Hashing Power: 17964 hashes per second\n",
      "Difficulty: 512 (9 bits)\n",
      "Starting search...\n",
      "Success with nonce 18\n",
      "Hash is 0077ee36ace319c2bda7c18e7b559f00e4a2e21dd9c48c1a0b767989c76fc0b0\n",
      "Elapsed Time: 0.0014 seconds\n",
      "Hashing Power: 13264 hashes per second\n",
      "Difficulty: 1024 (10 bits)\n",
      "Starting search...\n",
      "Success with nonce 323\n",
      "Hash is 0015537cd281ba92eec941bcbb49ced08a078ffb53ad624d6ae0f3bfb6e31d44\n",
      "Elapsed Time: 0.0153 seconds\n",
      "Hashing Power: 21158 hashes per second\n",
      "Difficulty: 2048 (11 bits)\n",
      "Starting search...\n",
      "Success with nonce 387\n",
      "Hash is 00183311cc64fdf1cbbdce15e75e7f49a402fc609cd09202f7718f897a2dd9f2\n",
      "Elapsed Time: 0.0178 seconds\n",
      "Hashing Power: 21767 hashes per second\n",
      "Difficulty: 4096 (12 bits)\n",
      "Starting search...\n",
      "Success with nonce 1469\n",
      "Hash is 000d124229cd427487a9999c3be89c0ccfef4a046239412ab038b7a2f0b6aa12\n",
      "Elapsed Time: 0.0643 seconds\n",
      "Hashing Power: 22841 hashes per second\n",
      "Difficulty: 8192 (13 bits)\n",
      "Starting search...\n",
      "Success with nonce 22486\n",
      "Hash is 00052958fe4f168d43f678302eb8d7115dc046d72812c81e14ba5077d3ce7f41\n",
      "Elapsed Time: 1.1915 seconds\n",
      "Hashing Power: 18872 hashes per second\n",
      "Difficulty: 16384 (14 bits)\n",
      "Starting search...\n",
      "Success with nonce 6925\n",
      "Hash is 0001303328947225bc81b29ebd0d2a100297bb41cde71b290219909f388dc7d8\n",
      "Elapsed Time: 0.4226 seconds\n",
      "Hashing Power: 16387 hashes per second\n",
      "Difficulty: 32768 (15 bits)\n",
      "Starting search...\n",
      "Success with nonce 67818\n",
      "Hash is 00007e2faaee4b8f92f30d4ab3a91e9d3211e082064e453c41b42a8f049a0f14\n",
      "Elapsed Time: 3.1822 seconds\n",
      "Hashing Power: 21311 hashes per second\n",
      "Difficulty: 65536 (16 bits)\n",
      "Starting search...\n",
      "Success with nonce 89491\n",
      "Hash is 00003523a86e315fe733f57752248553b728a1f251b2321868bec481d5ea90d9\n",
      "Elapsed Time: 4.1132 seconds\n",
      "Hashing Power: 21756 hashes per second\n",
      "Difficulty: 131072 (17 bits)\n",
      "Starting search...\n",
      "Success with nonce 37357\n",
      "Hash is 000046ef6c160b58415eb69e0d9efdc7c4855258db39ec9c1924e999d92a6c6f\n",
      "Elapsed Time: 1.7002 seconds\n",
      "Hashing Power: 21972 hashes per second\n",
      "Difficulty: 262144 (18 bits)\n",
      "Starting search...\n",
      "Success with nonce 167274\n",
      "Hash is 00000881447594aa27bf14cb0f954ca9461e9937a33af89a71e1f27e78e2146d\n",
      "Elapsed Time: 7.9563 seconds\n",
      "Hashing Power: 21024 hashes per second\n",
      "Difficulty: 524288 (19 bits)\n",
      "Starting search...\n",
      "Success with nonce 287993\n",
      "Hash is 000006bf2cff6da132586b61f533516a7e18526b11d879b5ce3b0fe535ce4a24\n",
      "Elapsed Time: 13.5041 seconds\n",
      "Hashing Power: 21326 hashes per second\n",
      "Difficulty: 1048576 (20 bits)\n",
      "Starting search...\n"
     ]
    }
   ],
   "source": [
    "if __name__ == '__main__':\n",
    "\n",
    "    new_chain = Blockchain()\n",
    "\n",
    "    for difficulty_bits in range(32):\n",
    "        difficulty = 2 ** difficulty_bits\n",
    "        new_chain.difficulty_bits = difficulty_bits\n",
    "        print(\"Difficulty: %ld (%d bits)\" % (difficulty, difficulty_bits))\n",
    "        print(\"Starting search...\")\n",
    "\n",
    "        start_time = datetime.now()\n",
    "\n",
    "        new_block_data = 'test block with transactions'\n",
    "        new_chain.add_block(data=new_block_data)\n",
    "\n",
    "\n",
    "        end_time = datetime.now()\n",
    "\n",
    "        elapsed_time = (end_time - start_time).total_seconds()\n",
    "        print(\"Elapsed Time: %.4f seconds\" % elapsed_time)\n",
    "\n",
    "        if elapsed_time > 0:\n",
    "\n",
    "            hash_power = float(int(new_chain.chain[-1].get(\"nonce\")) / elapsed_time)\n",
    "            print(\"Hashing Power: %ld hashes per second\" % hash_power)"
   ]
  },
  {
   "cell_type": "markdown",
   "metadata": {},
   "source": [
    "Above main method of python creates a new object of Blockchain class which will create a new chain with genesis block. The for loop will create a new block, each time increasing the difficulty_bits by 1. Proof of work function will be invoked for each block creation.  "
   ]
  },
  {
   "cell_type": "markdown",
   "metadata": {},
   "source": [
    "It is quite evident from the example output that the time taken to compute the solution directly proportional to the number of difficulty bits used. To be precise, for every bit increase in the difficulty level, probability of finding the nonce decreases by half as the target space decreases by half. Although sometimes luck might benefit in solving few of the puzzles, probability theory holds for the majority cases in proof of work consensus algorithm."
   ]
  },
  {
   "cell_type": "code",
   "execution_count": null,
   "metadata": {},
   "outputs": [],
   "source": []
  }
 ],
 "metadata": {
  "kernelspec": {
   "display_name": "Python 3",
   "language": "python",
   "name": "python3"
  },
  "language_info": {
   "codemirror_mode": {
    "name": "ipython",
    "version": 2
   },
   "file_extension": ".py",
   "mimetype": "text/x-python",
   "name": "python",
   "nbconvert_exporter": "python",
   "pygments_lexer": "ipython2",
   "version": "2.7.12"
  }
 },
 "nbformat": 4,
 "nbformat_minor": 2
}
